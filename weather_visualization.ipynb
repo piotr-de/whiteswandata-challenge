{
 "cells": [
  {
   "cell_type": "code",
   "execution_count": 142,
   "metadata": {},
   "outputs": [],
   "source": [
    "import gzip\n",
    "import json\n",
    "import pandas as pd\n",
    "from datetime import datetime"
   ]
  },
  {
   "cell_type": "code",
   "execution_count": 108,
   "metadata": {
    "scrolled": false
   },
   "outputs": [],
   "source": [
    "lines = []\n",
    "for line in gzip.open('data/weather.json.gz', 'r'):\n",
    "    lines.append(json.loads(line))"
   ]
  },
  {
   "cell_type": "code",
   "execution_count": 115,
   "metadata": {
    "scrolled": false
   },
   "outputs": [],
   "source": [
    "data = pd.json_normalize(lines)"
   ]
  },
  {
   "cell_type": "code",
   "execution_count": 158,
   "metadata": {
    "scrolled": false
   },
   "outputs": [],
   "source": [
    "data['time'] = pd.to_datetime(data['time'], unit='s')"
   ]
  },
  {
   "cell_type": "code",
   "execution_count": 161,
   "metadata": {},
   "outputs": [
    {
     "data": {
      "text/plain": [
       "2019-04-05 11:05:28    1758\n",
       "2019-04-05 11:05:55    1706\n",
       "2019-04-05 11:05:45    1596\n",
       "2019-04-05 11:05:30    1559\n",
       "2019-04-05 11:07:37    1516\n",
       "                       ... \n",
       "2019-04-05 11:07:00     497\n",
       "2019-04-05 11:08:10     480\n",
       "2019-04-05 11:06:14     441\n",
       "2019-04-05 11:07:25     433\n",
       "2019-04-05 11:07:46     399\n",
       "Name: time, Length: 203, dtype: int64"
      ]
     },
     "execution_count": 161,
     "metadata": {},
     "output_type": "execute_result"
    }
   ],
   "source": [
    "data['time'].value_counts()"
   ]
  }
 ],
 "metadata": {
  "kernelspec": {
   "display_name": "Challenge Venv",
   "language": "python",
   "name": "venv"
  },
  "language_info": {
   "codemirror_mode": {
    "name": "ipython",
    "version": 3
   },
   "file_extension": ".py",
   "mimetype": "text/x-python",
   "name": "python",
   "nbconvert_exporter": "python",
   "pygments_lexer": "ipython3",
   "version": "3.8.2"
  }
 },
 "nbformat": 4,
 "nbformat_minor": 4
}
